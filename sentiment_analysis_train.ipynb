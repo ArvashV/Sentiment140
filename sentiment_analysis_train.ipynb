{
 "cells": [
  {
   "cell_type": "code",
   "execution_count": null,
   "id": "a57b781e",
   "metadata": {},
   "outputs": [],
   "source": [
    "import pandas as pd\n",
    "import tensorflow as tf\n",
    "from tensorflow.keras.preprocessing.text import Tokenizer\n",
    "from tensorflow.keras.preprocessing.sequence import pad_sequences\n",
    "from sklearn.model_selection import train_test_split"
   ]
  },
  {
   "cell_type": "code",
   "execution_count": null,
   "id": "350b33f7",
   "metadata": {},
   "outputs": [],
   "source": [
    "# Load the dataset\n",
    "# Assuming the CSV file is named 'training.1600000.processed.noemoticon.csv'\n",
    "# The columns are: target, ids, date, flag, user, text\n",
    "df = pd.read_csv('training.1600000.processed.noemoticon.csv', encoding='latin-1', header=None)\n",
    "\n",
    "# Select only the target (0 = negative, 4 = positive) and text columns\n",
    "df = df[[0, 5]]\n",
    "df.columns = ['target', 'text']\n",
    "\n",
    "# Convert target 4 to 1 (binary classification: 0 = negative, 1 = positive)\n",
    "df['target'] = df['target'].replace(4, 1)"
   ]
  },
  {
   "cell_type": "code",
   "execution_count": null,
   "id": "878bc222",
   "metadata": {},
   "outputs": [],
   "source": [
    "# Preprocessing\n",
    "# Tokenize the text\n",
    "tokenizer = Tokenizer(num_words=5000, oov_token='<OOV>')\n",
    "tokenizer.fit_on_texts(df['text'])\n",
    "sequences = tokenizer.texts_to_sequences(df['text'])\n",
    "padded_sequences = pad_sequences(sequences, padding='post', maxlen=100)\n",
    "\n",
    "# Split data into training and testing sets\n",
    "X_train, X_test, y_train, y_test = train_test_split(padded_sequences, df['target'], test_size=0.2, random_state=42)"
   ]
  },
  {
   "cell_type": "code",
   "execution_count": null,
   "id": "062a3d19",
   "metadata": {},
   "outputs": [],
   "source": [
    "# Build the model\n",
    "model = tf.keras.Sequential([\n",
    "    tf.keras.layers.Embedding(input_dim=5000, output_dim=64, input_length=100),\n",
    "    tf.keras.layers.LSTM(64, return_sequences=True),\n",
    "    tf.keras.layers.LSTM(32),\n",
    "    tf.keras.layers.Dense(24, activation='relu'),\n",
    "    tf.keras.layers.Dense(1, activation='sigmoid')\n",
    "])\n",
    "\n",
    "model.compile(loss='binary_crossentropy', optimizer='adam', metrics=['accuracy'])"
   ]
  },
  {
   "cell_type": "code",
   "execution_count": null,
   "id": "0eb2d3cc",
   "metadata": {},
   "outputs": [],
   "source": [
    "# Train the model\n",
    "history = model.fit(X_train, y_train, epochs=5, validation_data=(X_test, y_test), verbose=2)"
   ]
  },
  {
   "cell_type": "code",
   "execution_count": null,
   "id": "7e8bdc55",
   "metadata": {},
   "outputs": [],
   "source": [
    "# Evaluate the model\n",
    "loss, accuracy = model.evaluate(X_test, y_test)\n",
    "print(f\"Test Accuracy: {accuracy}\")"
   ]
  },
  {
   "cell_type": "code",
   "execution_count": null,
   "id": "a5765a97",
   "metadata": {},
   "outputs": [],
   "source": [
    "# Save the model\n",
    "model.save('sentiment_analysis_model.h5')"
   ]
  },
  {
   "cell_type": "code",
   "execution_count": null,
   "id": "e6a259db",
   "metadata": {},
   "outputs": [],
   "source": [
    "# Example usage for prediction:\n",
    "# Load the model\n",
    "# model = tf.keras.models.load_model('sentiment_analysis_model.h5')\n",
    "\n",
    "# Sample tweet for prediction\n",
    "# sample_tweet = [\"I love this! It's awesome.\"]\n",
    "# sample_seq = tokenizer.texts_to_sequences(sample_tweet)\n",
    "# sample_padded = pad_sequences(sample_seq, padding='post', maxlen=100)\n",
    "\n",
    "# Predict\n",
    "# prediction = model.predict(sample_padded)\n",
    "# print(f\"Sentiment: {'Positive' if np.round(prediction[0][0]) == 1 else 'Negative'}\")"
   ]
  }
 ],
 "metadata": {
  "language_info": {
   "name": "python"
  }
 },
 "nbformat": 4,
 "nbformat_minor": 5
}
